{
 "cells": [
  {
   "cell_type": "code",
   "execution_count": 1,
   "metadata": {},
   "outputs": [],
   "source": [
    "from sklearn.preprocessing import MinMaxScaler\n",
    "import csv\n",
    "import pandas as pd\n",
    "import numpy as np\n",
    "import os\n",
    "import pickle\n",
    "import itertools\n",
    "from sklearn.preprocessing import OneHotEncoder\n",
    "from sklearn.preprocessing import StandardScaler\n",
    "from sklearn.model_selection import train_test_split\n",
    "from sklearn import metrics\n",
    "from sklearn.linear_model import LassoCV\n",
    "from sklearn.linear_model import RidgeCV\n",
    "from sklearn.linear_model import Ridge\n",
    "from sklearn.model_selection import GridSearchCV\n",
    "from sklearn.model_selection import cross_val_score\n",
    "from sklearn.model_selection import train_test_split\n",
    "from sklearn.linear_model import Lasso\n",
    "from sklearn.metrics import mean_squared_error\n",
    "import random\n",
    "import matplotlib.pyplot as plt\n",
    "from sklearn.metrics import mean_squared_log_error as MSLE\n",
    "random.seed(123)\n",
    "plt.rcParams[\"font.sans-serif\"]=[\"SimHei\"]\n",
    "from datetime import datetime\n",
    "pd.set_option(\"display.max_rows\", 1000)    #設定最大能顯示1000rows\n",
    "pd.set_option(\"display.max_columns\", 1000) #設定最大能顯示1000columns\n",
    "path = r\"C:\\Users\\user\\Desktop\\ETC\""
   ]
  },
  {
   "cell_type": "code",
   "execution_count": 2,
   "metadata": {
    "scrolled": true
   },
   "outputs": [
    {
     "name": "stdout",
     "output_type": "stream",
     "text": [
      "Index(['Unnamed: 0', '回堵情況', '處理時間', '總通行量', '總平均車速', '里程數', '速限', '24小時內死亡人數',\n",
      "       '2-30日內死亡人數', '受傷人數',\n",
      "       ...\n",
      "       '肇因研判(子)_44', '肇因研判(子)_48', '肇因研判(子)_49', '肇因研判(子)_50', '肇因研判(子)_65',\n",
      "       '肇因研判(子)_67', '是否為連續假日_1', '是否為假日_1', '是否開放路肩_1', '通報級數'],\n",
      "      dtype='object', length=326)\n",
      "(7242, 326)\n"
     ]
    }
   ],
   "source": [
    "acc_1_fin=pd.read_csv(path+r\"/acc1_fin_dummy_and_sd.csv\")\n",
    "print(acc_1_fin.columns)\n",
    "print(acc_1_fin.shape)"
   ]
  },
  {
   "cell_type": "code",
   "execution_count": 3,
   "metadata": {},
   "outputs": [],
   "source": [
    "with open(file=path+r'\\variable_select_varname_by_xgb.lst',mode=\"rb\") as inhis :  \n",
    "    variable_select_varname = pickle.load(file=inhis)   "
   ]
  },
  {
   "cell_type": "code",
   "execution_count": 4,
   "metadata": {},
   "outputs": [],
   "source": [
    "acc_1_dim_reduction=acc_1_fin[variable_select_varname]"
   ]
  },
  {
   "cell_type": "code",
   "execution_count": 5,
   "metadata": {},
   "outputs": [
    {
     "data": {
      "text/plain": [
       "Index(['總通行量', '總平均車速', '里程數', '速限', '受傷人數', '事故涉及車輛數', '通報地區_北控', '通報地區_南控',\n",
       "       '向車道_南', '通報來源_2', '通報來源_3', '通報來源_4', '通報來源_5', '縣市_新北市', '縣市_桃園市',\n",
       "       '縣市_臺中市', '縣市_臺北市', '縣市_苗栗縣', '縣市_雲林縣', '縣市_高雄市', '市區鄉鎮_中山區',\n",
       "       '市區鄉鎮_五股區', '市區鄉鎮_內湖區', '市區鄉鎮_大雅區', '市區鄉鎮_新市區', '市區鄉鎮_林口區', '市區鄉鎮_汐止區',\n",
       "       '市區鄉鎮_泰山區', '市區鄉鎮_蘆竹區', '當事者車種(子)_A31', '當事者車種(子)_B03', '當事者車種(子)_B12',\n",
       "       '月_4', '月_5', '月_6', '月_9', '月_10', '月_12', '星期_1', '星期_2', '星期_3',\n",
       "       '星期_4', '星期_5', '星期_6', '小時_4', '小時_7', '小時_9', '小時_11', '小時_14',\n",
       "       '小時_15', '小時_16', '小時_18', '小時_23', '天候代碼_6', '天候代碼_8', '光線代碼_3',\n",
       "       '光線代碼_4', '道路型態(子)_10', '道路型態(子)_14', '路面狀況-狀態_4', '車道劃分設施-分向設施(主)_5',\n",
       "       '車道劃分設施-分向設施(子)_10', '車道劃分設施-分道設施-快車道或一般車道間_3', '事故類型及型態(主)_3',\n",
       "       '事故類型及型態(子)_12', '事故類型及型態(子)_13', '事故類型及型態(子)_20', '當事者車種(主)_1',\n",
       "       '當事者車種(主)_4', '當事者車種(主)_6', '當事者車種(主)_7', '肇因研判(主)_4', '肇因研判(主)_6',\n",
       "       '肇因研判(子)_7', '肇因研判(子)_14', '肇因研判(子)_16', '肇因研判(子)_23', '是否為連續假日_1',\n",
       "       '是否為假日_1', '通報級數'],\n",
       "      dtype='object')"
      ]
     },
     "execution_count": 5,
     "metadata": {},
     "output_type": "execute_result"
    }
   ],
   "source": [
    "acc_1_dim_reduction.columns"
   ]
  },
  {
   "cell_type": "code",
   "execution_count": 6,
   "metadata": {},
   "outputs": [],
   "source": [
    "X1 = acc_1_dim_reduction\n",
    "y1 = acc_1_fin[\"處理時間\"]"
   ]
  },
  {
   "cell_type": "code",
   "execution_count": 7,
   "metadata": {},
   "outputs": [
    {
     "data": {
      "text/plain": [
       "Index(['總通行量', '總平均車速', '里程數', '速限', '受傷人數', '事故涉及車輛數', '通報地區_北控', '通報地區_南控',\n",
       "       '向車道_南', '通報來源_2', '通報來源_3', '通報來源_4', '通報來源_5', '縣市_新北市', '縣市_桃園市',\n",
       "       '縣市_臺中市', '縣市_臺北市', '縣市_苗栗縣', '縣市_雲林縣', '縣市_高雄市', '市區鄉鎮_中山區',\n",
       "       '市區鄉鎮_五股區', '市區鄉鎮_內湖區', '市區鄉鎮_大雅區', '市區鄉鎮_新市區', '市區鄉鎮_林口區', '市區鄉鎮_汐止區',\n",
       "       '市區鄉鎮_泰山區', '市區鄉鎮_蘆竹區', '當事者車種(子)_A31', '當事者車種(子)_B03', '當事者車種(子)_B12',\n",
       "       '月_4', '月_5', '月_6', '月_9', '月_10', '月_12', '星期_1', '星期_2', '星期_3',\n",
       "       '星期_4', '星期_5', '星期_6', '小時_4', '小時_7', '小時_9', '小時_11', '小時_14',\n",
       "       '小時_15', '小時_16', '小時_18', '小時_23', '天候代碼_6', '天候代碼_8', '光線代碼_3',\n",
       "       '光線代碼_4', '道路型態(子)_10', '道路型態(子)_14', '路面狀況-狀態_4', '車道劃分設施-分向設施(主)_5',\n",
       "       '車道劃分設施-分向設施(子)_10', '車道劃分設施-分道設施-快車道或一般車道間_3', '事故類型及型態(主)_3',\n",
       "       '事故類型及型態(子)_12', '事故類型及型態(子)_13', '事故類型及型態(子)_20', '當事者車種(主)_1',\n",
       "       '當事者車種(主)_4', '當事者車種(主)_6', '當事者車種(主)_7', '肇因研判(主)_4', '肇因研判(主)_6',\n",
       "       '肇因研判(子)_7', '肇因研判(子)_14', '肇因研判(子)_16', '肇因研判(子)_23', '是否為連續假日_1',\n",
       "       '是否為假日_1', '通報級數'],\n",
       "      dtype='object')"
      ]
     },
     "execution_count": 7,
     "metadata": {},
     "output_type": "execute_result"
    }
   ],
   "source": [
    "X1.columns"
   ]
  },
  {
   "cell_type": "code",
   "execution_count": 8,
   "metadata": {},
   "outputs": [],
   "source": [
    "X1_train, X1_test, y1_train, y1_test = train_test_split(X1, y1, test_size=0.2) # 0.2 test_size means 20%"
   ]
  },
  {
   "cell_type": "code",
   "execution_count": 9,
   "metadata": {},
   "outputs": [],
   "source": [
    "from sklearn.tree import DecisionTreeRegressor\n",
    "from sklearn.model_selection import cross_val_score"
   ]
  },
  {
   "cell_type": "markdown",
   "metadata": {},
   "source": [
    "# MLP"
   ]
  },
  {
   "cell_type": "code",
   "execution_count": 10,
   "metadata": {},
   "outputs": [],
   "source": [
    "# MLP是多层感知器，使用的是前馈神经网络\n",
    "#只支持交叉熵损失，使用mlp.predict_proda()，最小化交叉熵，同时给似然估计p(y|x)\n",
    "\n",
    "from sklearn.neural_network import MLPRegressor\n",
    "from sklearn.model_selection import train_test_split\n",
    "import numpy as np\n",
    "import matplotlib.pyplot as plt\n",
    "from sklearn import preprocessing"
   ]
  },
  {
   "cell_type": "code",
   "execution_count": 11,
   "metadata": {},
   "outputs": [
    {
     "data": {
      "text/plain": [
       "{'hidden_layer_sizes': (20, 100, 100)}"
      ]
     },
     "execution_count": 11,
     "metadata": {},
     "output_type": "execute_result"
    }
   ],
   "source": [
    "mlp_gsc = GridSearchCV(MLPRegressor(activation='relu', solver='adam', batch_size='auto',\n",
    "    learning_rate='constant', learning_rate_init=0.001, power_t=0.5, max_iter=5000, shuffle=True,\n",
    "    random_state=1, tol=0.0001, verbose=False, warm_start=False, momentum=0.9, nesterovs_momentum=True,\n",
    "    early_stopping=False), param_grid={\n",
    "                  'hidden_layer_sizes': [x for x in itertools.product((10,20,30,40,50,100),repeat=3)]},\n",
    "              scoring='neg_mean_squared_error', verbose=0,n_jobs=-1, cv=10, refit=True)\n",
    "\n",
    "mlp_gsc.fit(X1_train,y1_train)\n",
    "mlp_gsc.best_params_"
   ]
  },
  {
   "cell_type": "code",
   "execution_count": 12,
   "metadata": {},
   "outputs": [
    {
     "name": "stderr",
     "output_type": "stream",
     "text": [
      "C:\\Users\\user\\anaconda3\\lib\\site-packages\\sklearn\\neural_network\\_multilayer_perceptron.py:571: ConvergenceWarning: Stochastic Optimizer: Maximum iterations (200) reached and the optimization hasn't converged yet.\n",
      "  % self.max_iter, ConvergenceWarning)\n",
      "C:\\Users\\user\\anaconda3\\lib\\site-packages\\sklearn\\neural_network\\_multilayer_perceptron.py:571: ConvergenceWarning: Stochastic Optimizer: Maximum iterations (200) reached and the optimization hasn't converged yet.\n",
      "  % self.max_iter, ConvergenceWarning)\n",
      "C:\\Users\\user\\anaconda3\\lib\\site-packages\\sklearn\\neural_network\\_multilayer_perceptron.py:571: ConvergenceWarning: Stochastic Optimizer: Maximum iterations (200) reached and the optimization hasn't converged yet.\n",
      "  % self.max_iter, ConvergenceWarning)\n"
     ]
    }
   ],
   "source": [
    "mlp = MLPRegressor(random_state=0, activation='relu', solver='adam',\n",
    "                   hidden_layer_sizes=mlp_gsc.best_params_[\"hidden_layer_sizes\"])\n",
    "mlp_scores = cross_val_score(mlp, X1_train, y1_train, cv=10,scoring='neg_mean_squared_error')"
   ]
  },
  {
   "cell_type": "code",
   "execution_count": 13,
   "metadata": {},
   "outputs": [],
   "source": [
    "mlp_fit = mlp.fit(X1_train,y1_train)"
   ]
  },
  {
   "cell_type": "code",
   "execution_count": 14,
   "metadata": {},
   "outputs": [],
   "source": [
    "## predict_y\n",
    "mlp_1_pred=mlp.predict(X1_test)\n",
    "mlp_1_pred=mlp_1_pred.flatten()"
   ]
  },
  {
   "cell_type": "code",
   "execution_count": 15,
   "metadata": {
    "scrolled": true
   },
   "outputs": [
    {
     "name": "stdout",
     "output_type": "stream",
     "text": [
      "16.260993433718514\n"
     ]
    }
   ],
   "source": [
    "# rmse\n",
    "print(np.sqrt(mean_squared_error(y1_test,mlp_1_pred)))"
   ]
  },
  {
   "cell_type": "code",
   "execution_count": 16,
   "metadata": {},
   "outputs": [],
   "source": [
    "from sklearn.metrics import mean_absolute_error"
   ]
  },
  {
   "cell_type": "code",
   "execution_count": 17,
   "metadata": {
    "scrolled": true
   },
   "outputs": [
    {
     "name": "stdout",
     "output_type": "stream",
     "text": [
      "9.797419287882319\n"
     ]
    }
   ],
   "source": [
    "# mae\n",
    "print(mean_absolute_error(y1_test,mlp_1_pred))"
   ]
  },
  {
   "cell_type": "code",
   "execution_count": null,
   "metadata": {},
   "outputs": [],
   "source": [
    "var_imp=X1_train.columns[xgb9.feature_importances_>0.007]\n",
    "xgb9.feature_importances_[np.where(xgb9.feature_importances_>0.007)]"
   ]
  },
  {
   "cell_type": "code",
   "execution_count": null,
   "metadata": {},
   "outputs": [],
   "source": [
    "# 係數視覺化\n",
    "y_importances = xgb9.feature_importances_[np.where(xgb9.feature_importances_>0.007)]\n",
    "x_importances = var_imp\n",
    "y_pos = np.arange(len(x_importances))\n",
    "plt.figure(figsize=(10,10))\n",
    "plt.barh(y_pos, y_importances, align='center')\n",
    "plt.yticks(y_pos, x_importances,fontsize=14)\n",
    "plt.xlabel('Importances')\n",
    "plt.xlim(0,0.3)\n",
    "plt.title('Features Importances',fontsize=14)\n",
    "plt.savefig('XGB_select(OBJ).png',bbox_inches='tight')\n",
    "plt.show()"
   ]
  },
  {
   "cell_type": "code",
   "execution_count": null,
   "metadata": {},
   "outputs": [],
   "source": []
  },
  {
   "cell_type": "code",
   "execution_count": null,
   "metadata": {},
   "outputs": [],
   "source": []
  },
  {
   "cell_type": "code",
   "execution_count": null,
   "metadata": {},
   "outputs": [],
   "source": []
  },
  {
   "cell_type": "code",
   "execution_count": null,
   "metadata": {},
   "outputs": [],
   "source": []
  },
  {
   "cell_type": "code",
   "execution_count": null,
   "metadata": {},
   "outputs": [],
   "source": []
  },
  {
   "cell_type": "code",
   "execution_count": null,
   "metadata": {},
   "outputs": [],
   "source": []
  }
 ],
 "metadata": {
  "kernelspec": {
   "display_name": "Python 3",
   "language": "python",
   "name": "python3"
  },
  "language_info": {
   "codemirror_mode": {
    "name": "ipython",
    "version": 3
   },
   "file_extension": ".py",
   "mimetype": "text/x-python",
   "name": "python",
   "nbconvert_exporter": "python",
   "pygments_lexer": "ipython3",
   "version": "3.7.6"
  }
 },
 "nbformat": 4,
 "nbformat_minor": 4
}
