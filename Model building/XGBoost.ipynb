{
 "cells": [
  {
   "cell_type": "code",
   "execution_count": 1,
   "metadata": {
    "scrolled": true
   },
   "outputs": [
    {
     "name": "stdout",
     "output_type": "stream",
     "text": [
      "Collecting xgboost\n",
      "  Downloading xgboost-1.1.1-py3-none-win_amd64.whl (54.4 MB)\n",
      "Requirement already satisfied: numpy in c:\\users\\user\\anaconda3\\lib\\site-packages (from xgboost) (1.18.2)\n",
      "Requirement already satisfied: scipy in c:\\users\\user\\anaconda3\\lib\\site-packages (from xgboost) (1.4.1)\n",
      "Installing collected packages: xgboost\n",
      "Successfully installed xgboost-1.1.1\n",
      "Note: you may need to restart the kernel to use updated packages.\n"
     ]
    }
   ],
   "source": [
    "pip install xgboost"
   ]
  },
  {
   "cell_type": "code",
   "execution_count": 2,
   "metadata": {},
   "outputs": [],
   "source": [
    "##Import libraries:\n",
    "import pandas as pd\n",
    "import numpy as np\n",
    "import xgboost as xgb\n",
    "from xgboost.sklearn import XGBRegressor\n",
    "import matplotlib.pylab as plt\n",
    "#import warnings\n",
    "#warnings.filterwarnings('ignore')\n",
    "%matplotlib inline\n",
    "from matplotlib.pylab import rcParams\n",
    "rcParams['figure.figsize'] = 12, 4\n",
    "from sklearn.metrics import mean_absolute_error\n",
    "from sklearn.metrics import fbeta_score, make_scorer\n",
    "from sklearn.metrics import mean_squared_error\n",
    "from math import sqrt\n",
    "import csv\n",
    "import pandas as pd\n",
    "import numpy as np\n",
    "import os\n",
    "import pickle\n",
    "from sklearn.preprocessing import OneHotEncoder\n",
    "from sklearn.preprocessing import StandardScaler\n",
    "from sklearn.model_selection import train_test_split\n",
    "from sklearn import metrics\n",
    "from sklearn.linear_model import LassoCV\n",
    "from sklearn.linear_model import RidgeCV\n",
    "from sklearn.linear_model import Ridge\n",
    "from sklearn.model_selection import GridSearchCV\n",
    "from sklearn.model_selection import cross_val_score\n",
    "from sklearn.model_selection import train_test_split\n",
    "from sklearn.linear_model import Lasso\n",
    "from sklearn.metrics import mean_squared_error\n",
    "import random\n",
    "import matplotlib.pyplot as plt\n",
    "from sklearn.metrics import mean_squared_log_error as MSLE\n",
    "random.seed(123)\n",
    "plt.rcParams[\"font.sans-serif\"]=[\"SimHei\"]\n",
    "from datetime import datetime\n",
    "pd.set_option(\"display.max_rows\", 1000)    #設定最大能顯示1000rows\n",
    "pd.set_option(\"display.max_columns\", 1000) #設定最大能顯示1000columns\n",
    "path = r\"C:\\Users\\user\\Desktop\\ETC\""
   ]
  },
  {
   "cell_type": "code",
   "execution_count": 3,
   "metadata": {},
   "outputs": [
    {
     "name": "stdout",
     "output_type": "stream",
     "text": [
      "Index(['Unnamed: 0', '回堵情況', '處理時間', '總通行量', '總平均車速', '里程數', '速限', '24小時內死亡人數',\n",
      "       '2-30日內死亡人數', '受傷人數',\n",
      "       ...\n",
      "       '肇因研判(子)_44', '肇因研判(子)_48', '肇因研判(子)_49', '肇因研判(子)_50', '肇因研判(子)_65',\n",
      "       '肇因研判(子)_67', '是否為連續假日_1', '是否為假日_1', '是否開放路肩_1', '通報級數'],\n",
      "      dtype='object', length=326)\n",
      "(7242, 326)\n"
     ]
    }
   ],
   "source": [
    "acc_1_fin=pd.read_csv(path+r\"/acc1_fin_dummy_and_sd.csv\")\n",
    "print(acc_1_fin.columns)\n",
    "print(acc_1_fin.shape)"
   ]
  },
  {
   "cell_type": "code",
   "execution_count": 4,
   "metadata": {},
   "outputs": [],
   "source": [
    "acc_1_fin=acc_1_fin.drop(\"Unnamed: 0\",axis = 1)\n",
    "acc_1_fin=acc_1_fin.drop(\"回堵情況\",axis = 1)\n",
    "X1 = acc_1_fin.drop(\"處理時間\",axis = 1)\n",
    "y1 = acc_1_fin[\"處理時間\"]"
   ]
  },
  {
   "cell_type": "code",
   "execution_count": 5,
   "metadata": {
    "scrolled": true
   },
   "outputs": [
    {
     "data": {
      "text/plain": [
       "Index(['總通行量', '總平均車速', '里程數', '速限', '24小時內死亡人數', '2-30日內死亡人數', '受傷人數',\n",
       "       '事故涉及車輛數', '通報地區_北控', '通報地區_南控',\n",
       "       ...\n",
       "       '肇因研判(子)_44', '肇因研判(子)_48', '肇因研判(子)_49', '肇因研判(子)_50', '肇因研判(子)_65',\n",
       "       '肇因研判(子)_67', '是否為連續假日_1', '是否為假日_1', '是否開放路肩_1', '通報級數'],\n",
       "      dtype='object', length=323)"
      ]
     },
     "execution_count": 5,
     "metadata": {},
     "output_type": "execute_result"
    }
   ],
   "source": [
    "X1.columns"
   ]
  },
  {
   "cell_type": "code",
   "execution_count": 6,
   "metadata": {},
   "outputs": [],
   "source": [
    "X1_train, X1_test, y1_train, y1_test = train_test_split(X1, y1, test_size=0.2) # 0.2 test_size means 20%"
   ]
  },
  {
   "cell_type": "code",
   "execution_count": 7,
   "metadata": {},
   "outputs": [
    {
     "name": "stderr",
     "output_type": "stream",
     "text": [
      "C:\\Users\\user\\anaconda3\\lib\\site-packages\\sklearn\\model_selection\\_search.py:823: FutureWarning: The parameter 'iid' is deprecated in 0.22 and will be removed in 0.24.\n",
      "  \"removed in 0.24.\", FutureWarning\n"
     ]
    },
    {
     "name": "stdout",
     "output_type": "stream",
     "text": [
      "[09:38:28] WARNING: C:/Users/Administrator/workspace/xgboost-win64_release_1.1.0/src/objective/regression_obj.cu:170: reg:linear is now deprecated in favor of reg:squarederror.\n",
      "[09:38:29] WARNING: C:/Users/Administrator/workspace/xgboost-win64_release_1.1.0/src/objective/regression_obj.cu:170: reg:linear is now deprecated in favor of reg:squarederror.\n"
     ]
    },
    {
     "data": {
      "text/plain": [
       "{'max_depth': 3, 'min_child_weight': 9}"
      ]
     },
     "execution_count": 7,
     "metadata": {},
     "output_type": "execute_result"
    }
   ],
   "source": [
    "# 1: max_depth 和 min_child_weight參數調優\n",
    "\n",
    "param_test1 = {'max_depth':range(3,10),'min_child_weight':range(1,10)}\n",
    "gsearch1 = GridSearchCV(estimator = XGBRegressor(booster='gbtree',\n",
    "                    objective= 'reg:linear',\n",
    "                    eval_metric='rmse',\n",
    "                    gamma = 0.1,\n",
    "                    subsample= 0.8,\n",
    "                    colsample_bytree= 0.8,\n",
    "                    tree_method= 'exact',\n",
    "                    learning_rate=0.1,\n",
    "                    n_estimators=100,\n",
    "                    nthread=4,\n",
    "                    scale_pos_weight=1,\n",
    "                    seed=27),\n",
    "                    param_grid = param_test1, scoring='neg_mean_squared_error',n_jobs=4,iid=False, cv=10)\n",
    "gsearch1.fit(X1_train,y1_train)\n",
    "gsearch1.best_params_"
   ]
  },
  {
   "cell_type": "code",
   "execution_count": 8,
   "metadata": {},
   "outputs": [
    {
     "name": "stdout",
     "output_type": "stream",
     "text": [
      "[09:39:01] WARNING: C:/Users/Administrator/workspace/xgboost-win64_release_1.1.0/src/objective/regression_obj.cu:170: reg:linear is now deprecated in favor of reg:squarederror.\n",
      "[09:39:02] WARNING: C:/Users/Administrator/workspace/xgboost-win64_release_1.1.0/src/objective/regression_obj.cu:170: reg:linear is now deprecated in favor of reg:squarederror.\n"
     ]
    },
    {
     "data": {
      "text/plain": [
       "GridSearchCV(cv=10, error_score=nan,\n",
       "             estimator=XGBRegressor(base_score=None, booster='gbtree',\n",
       "                                    colsample_bylevel=None,\n",
       "                                    colsample_bynode=None, colsample_bytree=0.8,\n",
       "                                    eval_metric='rmse', gamma=None, gpu_id=None,\n",
       "                                    importance_type='gain',\n",
       "                                    interaction_constraints=None,\n",
       "                                    learning_rate=0.1, max_delta_step=None,\n",
       "                                    max_depth=3, min_child_weight=9,\n",
       "                                    missing=nan, monotone_constrain...\n",
       "                                    num_parallel_tree=None,\n",
       "                                    objective='reg:linear', random_state=None,\n",
       "                                    reg_alpha=None, reg_lambda=None,\n",
       "                                    scale_pos_weight=1, seed=27, subsample=0.8,\n",
       "                                    tree_method='exact',\n",
       "                                    validate_parameters=None, verbosity=None),\n",
       "             iid=False, n_jobs=4,\n",
       "             param_grid={'gamma': [0.0, 0.1, 0.2, 0.3, 0.4]},\n",
       "             pre_dispatch='2*n_jobs', refit=True, return_train_score=False,\n",
       "             scoring='neg_mean_squared_error', verbose=0)"
      ]
     },
     "execution_count": 8,
     "metadata": {},
     "output_type": "execute_result"
    }
   ],
   "source": [
    "param_test3 = {\n",
    "    'gamma':[i/10.0 for i in range(0,5)]\n",
    "}\n",
    "gsearch3 = GridSearchCV(estimator = XGBRegressor(booster='gbtree',\n",
    "                    objective= 'reg:linear',\n",
    "                    eval_metric='rmse',\n",
    "                    min_child_weight= 9,\n",
    "                    max_depth= 3,\n",
    "                    subsample= 0.8,\n",
    "                    colsample_bytree= 0.8,\n",
    "                    tree_method= 'exact',\n",
    "                    learning_rate=0.1,\n",
    "                    n_estimators=100,\n",
    "                    nthread=4,\n",
    "                    scale_pos_weight=1,\n",
    "                    seed=27),\n",
    "                       param_grid = param_test3, scoring='neg_mean_squared_error',n_jobs=4,iid=False, cv=10)\n",
    "gsearch3.fit(X1_train,y1_train)"
   ]
  },
  {
   "cell_type": "code",
   "execution_count": 9,
   "metadata": {},
   "outputs": [
    {
     "data": {
      "text/plain": [
       "{'gamma': 0.0}"
      ]
     },
     "execution_count": 9,
     "metadata": {},
     "output_type": "execute_result"
    }
   ],
   "source": [
    "gsearch3.best_params_"
   ]
  },
  {
   "cell_type": "code",
   "execution_count": 10,
   "metadata": {},
   "outputs": [
    {
     "name": "stdout",
     "output_type": "stream",
     "text": [
      "[09:40:39] WARNING: C:/Users/Administrator/workspace/xgboost-win64_release_1.1.0/src/objective/regression_obj.cu:170: reg:linear is now deprecated in favor of reg:squarederror.\n",
      "[09:40:39] WARNING: C:/Users/Administrator/workspace/xgboost-win64_release_1.1.0/src/objective/regression_obj.cu:170: reg:linear is now deprecated in favor of reg:squarederror.\n"
     ]
    },
    {
     "data": {
      "text/plain": [
       "GridSearchCV(cv=10, error_score=nan,\n",
       "             estimator=XGBRegressor(base_score=None, booster='gbtree',\n",
       "                                    colsample_bylevel=None,\n",
       "                                    colsample_bynode=None,\n",
       "                                    colsample_bytree=None, eval_metric='rmse',\n",
       "                                    gamma=0, gpu_id=None,\n",
       "                                    importance_type='gain',\n",
       "                                    interaction_constraints=None,\n",
       "                                    learning_rate=0.1, max_delta_step=None,\n",
       "                                    max_depth=3, min_child_weight=9,\n",
       "                                    missing=nan, monotone_constraints...\n",
       "                                    objective='reg:linear', random_state=None,\n",
       "                                    reg_alpha=None, reg_lambda=None,\n",
       "                                    scale_pos_weight=1, seed=27, subsample=None,\n",
       "                                    tree_method='exact',\n",
       "                                    validate_parameters=None, verbosity=None),\n",
       "             iid=False, n_jobs=4,\n",
       "             param_grid={'colsample_bytree': [0.6, 0.7, 0.8, 0.9],\n",
       "                         'subsample': [0.6, 0.7, 0.8, 0.9]},\n",
       "             pre_dispatch='2*n_jobs', refit=True, return_train_score=False,\n",
       "             scoring='neg_mean_squared_error', verbose=0)"
      ]
     },
     "execution_count": 10,
     "metadata": {},
     "output_type": "execute_result"
    }
   ],
   "source": [
    "param_test4 = {\n",
    "    'subsample':[i/10.0 for i in range(6,10)],\n",
    "    'colsample_bytree':[i/10.0 for i in range(6,10)]\n",
    "}\n",
    "gsearch4 = GridSearchCV(estimator = XGBRegressor(booster='gbtree',\n",
    "                    objective= 'reg:linear',\n",
    "                    eval_metric='rmse',\n",
    "                    gamma = 0,\n",
    "                    min_child_weight= 9,\n",
    "                    max_depth= 3,\n",
    "                    tree_method= 'exact',\n",
    "                    learning_rate=0.1,\n",
    "                    n_estimators=100,\n",
    "                    nthread=4,\n",
    "                    scale_pos_weight=1,\n",
    "                    seed=27),\n",
    "                       param_grid = param_test4, scoring='neg_mean_squared_error',n_jobs=4,iid=False, cv=10)\n",
    "gsearch4.fit(X1_train,y1_train)"
   ]
  },
  {
   "cell_type": "code",
   "execution_count": 11,
   "metadata": {},
   "outputs": [
    {
     "data": {
      "text/plain": [
       "{'colsample_bytree': 0.6, 'subsample': 0.9}"
      ]
     },
     "execution_count": 11,
     "metadata": {},
     "output_type": "execute_result"
    }
   ],
   "source": [
    "gsearch4.best_params_"
   ]
  },
  {
   "cell_type": "code",
   "execution_count": 12,
   "metadata": {},
   "outputs": [
    {
     "name": "stdout",
     "output_type": "stream",
     "text": [
      "[09:41:05] WARNING: C:/Users/Administrator/workspace/xgboost-win64_release_1.1.0/src/objective/regression_obj.cu:170: reg:linear is now deprecated in favor of reg:squarederror.\n",
      "[09:41:05] WARNING: C:/Users/Administrator/workspace/xgboost-win64_release_1.1.0/src/objective/regression_obj.cu:170: reg:linear is now deprecated in favor of reg:squarederror.\n"
     ]
    },
    {
     "data": {
      "text/plain": [
       "GridSearchCV(cv=10, error_score=nan,\n",
       "             estimator=XGBRegressor(base_score=None, booster='gbtree',\n",
       "                                    colsample_bylevel=None,\n",
       "                                    colsample_bynode=None, colsample_bytree=0.6,\n",
       "                                    eval_metric='rmse', gamma=0, gpu_id=None,\n",
       "                                    importance_type='gain',\n",
       "                                    interaction_constraints=None,\n",
       "                                    learning_rate=0.1, max_delta_step=None,\n",
       "                                    max_depth=3, min_child_weight=9,\n",
       "                                    missing=nan, monotone_constraints=...\n",
       "                                    num_parallel_tree=None,\n",
       "                                    objective='reg:linear', random_state=None,\n",
       "                                    reg_alpha=None, reg_lambda=None,\n",
       "                                    scale_pos_weight=1, seed=27, subsample=0.9,\n",
       "                                    tree_method='exact',\n",
       "                                    validate_parameters=None, verbosity=None),\n",
       "             iid=False, n_jobs=4,\n",
       "             param_grid={'reg_alpha': [1e-05, 0.01, 0.1, 1, 100]},\n",
       "             pre_dispatch='2*n_jobs', refit=True, return_train_score=False,\n",
       "             scoring='neg_mean_squared_error', verbose=0)"
      ]
     },
     "execution_count": 12,
     "metadata": {},
     "output_type": "execute_result"
    }
   ],
   "source": [
    "param_test6 = {\n",
    "    'reg_alpha':[1e-5, 1e-2, 0.1, 1, 100]\n",
    "}\n",
    "gsearch6 = GridSearchCV(estimator = XGBRegressor(booster='gbtree',\n",
    "                    objective= 'reg:linear',\n",
    "                    eval_metric='rmse',\n",
    "                    gamma = 0,\n",
    "                    min_child_weight= 9,\n",
    "                    max_depth= 3,\n",
    "                    subsample= 0.9,\n",
    "                    colsample_bytree= 0.6,\n",
    "                    tree_method= 'exact',\n",
    "                    learning_rate=0.1,\n",
    "                    n_estimators=100,\n",
    "                    nthread=4,\n",
    "                    scale_pos_weight=1,\n",
    "                    seed=27),\n",
    "                       param_grid = param_test6, scoring='neg_mean_squared_error',n_jobs=4,iid=False, cv=10)\n",
    "gsearch6.fit(X1_train,y1_train)"
   ]
  },
  {
   "cell_type": "code",
   "execution_count": 13,
   "metadata": {},
   "outputs": [
    {
     "data": {
      "text/plain": [
       "{'reg_alpha': 100}"
      ]
     },
     "execution_count": 13,
     "metadata": {},
     "output_type": "execute_result"
    }
   ],
   "source": [
    "gsearch6.best_params_"
   ]
  },
  {
   "cell_type": "code",
   "execution_count": 16,
   "metadata": {},
   "outputs": [
    {
     "name": "stdout",
     "output_type": "stream",
     "text": [
      "[09:48:24] WARNING: C:/Users/Administrator/workspace/xgboost-win64_release_1.1.0/src/objective/regression_obj.cu:170: reg:linear is now deprecated in favor of reg:squarederror.\n",
      "[09:48:25] WARNING: C:/Users/Administrator/workspace/xgboost-win64_release_1.1.0/src/objective/regression_obj.cu:170: reg:linear is now deprecated in favor of reg:squarederror.\n"
     ]
    },
    {
     "data": {
      "text/plain": [
       "GridSearchCV(cv=10, error_score=nan,\n",
       "             estimator=XGBRegressor(base_score=None, booster='gbtree',\n",
       "                                    colsample_bylevel=None,\n",
       "                                    colsample_bynode=None, colsample_bytree=0.6,\n",
       "                                    eval_metric='rmse', gamma=0, gpu_id=None,\n",
       "                                    importance_type='gain',\n",
       "                                    interaction_constraints=None,\n",
       "                                    learning_rate=0.1, max_delta_step=None,\n",
       "                                    max_depth=3, min_child_weight=9,\n",
       "                                    missing=nan, monotone_constraints=...\n",
       "             param_grid={'reg_alpha': array([100.        , 105.26315789, 110.52631579, 115.78947368,\n",
       "       121.05263158, 126.31578947, 131.57894737, 136.84210526,\n",
       "       142.10526316, 147.36842105, 152.63157895, 157.89473684,\n",
       "       163.15789474, 168.42105263, 173.68421053, 178.94736842,\n",
       "       184.21052632, 189.47368421, 194.73684211, 200.        ])},\n",
       "             pre_dispatch='2*n_jobs', refit=True, return_train_score=False,\n",
       "             scoring='neg_mean_squared_error', verbose=0)"
      ]
     },
     "execution_count": 16,
     "metadata": {},
     "output_type": "execute_result"
    }
   ],
   "source": [
    "param_test7 = {\n",
    "    'reg_alpha':np.linspace(100, 200, 20)\n",
    "}\n",
    "gsearch7 = GridSearchCV(estimator = XGBRegressor(booster='gbtree',\n",
    "                    objective= 'reg:linear',\n",
    "                    eval_metric='rmse',\n",
    "                    gamma = 0,\n",
    "                    min_child_weight= 9,\n",
    "                    max_depth= 3,\n",
    "                    subsample= 0.9,\n",
    "                    colsample_bytree= 0.6,\n",
    "                    tree_method= 'exact',\n",
    "                    learning_rate=0.1,\n",
    "                    n_estimators=100,\n",
    "                    nthread=4,\n",
    "                    scale_pos_weight=1,\n",
    "                    seed=27),\n",
    "                       param_grid = param_test7, scoring='neg_mean_squared_error',n_jobs=4,iid=False, cv=10)\n",
    "gsearch7.fit(X1_train,y1_train)"
   ]
  },
  {
   "cell_type": "code",
   "execution_count": 17,
   "metadata": {},
   "outputs": [
    {
     "data": {
      "text/plain": [
       "{'reg_alpha': 189.47368421052633}"
      ]
     },
     "execution_count": 17,
     "metadata": {},
     "output_type": "execute_result"
    }
   ],
   "source": [
    "gsearch7.best_params_"
   ]
  },
  {
   "cell_type": "code",
   "execution_count": null,
   "metadata": {},
   "outputs": [],
   "source": [
    "#Grid seach on subsample and max_features\n",
    "#Choose all predictors except target & IDcols\n",
    "param_test9 = {\n",
    "    'n_estimators':[50, 100, 200, 500,1000],\n",
    "    'learning_rate':[0.001, 0.01, 0.05, 0.1,0.2]\n",
    "}\n",
    "gsearch9 = GridSearchCV(estimator = XGBRegressor(booster='gbtree',\n",
    "                    objective= 'reg:linear',\n",
    "                    eval_metric='rmse',\n",
    "                    gamma = 0,\n",
    "                    min_child_weight= 9,\n",
    "                    max_depth= 3,\n",
    "                    subsample= 0.9,\n",
    "                    colsample_bytree= 0.6,\n",
    "                    tree_method= 'exact',\n",
    "                    learning_rate=0.1,\n",
    "                    n_estimators=100,\n",
    "                    nthread=4,\n",
    "                    scale_pos_weight=1,                           \n",
    "                    reg_alpha =189.47,                           \n",
    "                    seed=27),\n",
    "                       param_grid = param_test9, scoring='neg_mean_squared_error',n_jobs=4,iid=False, cv=10)\n",
    "gsearch9.fit(X1_train,y1_train)"
   ]
  },
  {
   "cell_type": "code",
   "execution_count": 21,
   "metadata": {
    "scrolled": true
   },
   "outputs": [
    {
     "data": {
      "text/plain": [
       "({'learning_rate': 0.01, 'n_estimators': 500},)"
      ]
     },
     "execution_count": 21,
     "metadata": {},
     "output_type": "execute_result"
    }
   ],
   "source": [
    "gsearch9.best_params_, "
   ]
  },
  {
   "cell_type": "code",
   "execution_count": 22,
   "metadata": {},
   "outputs": [],
   "source": [
    "xgb9 = XGBRegressor(booster='gbtree',\n",
    "                    objective= 'reg:linear',\n",
    "                    eval_metric='rmse',\n",
    "                    gamma = 0,\n",
    "                    min_child_weight= 9,\n",
    "                    max_depth= 3,\n",
    "                    subsample= 0.9,\n",
    "                    colsample_bytree= 0.6,\n",
    "                    tree_method= 'exact',\n",
    "                    learning_rate=0.01,\n",
    "                    n_estimators=500,\n",
    "                    nthread=4,\n",
    "                    scale_pos_weight=1,\n",
    "                    reg_alpha=189,                           \n",
    "                    seed=27)"
   ]
  },
  {
   "cell_type": "code",
   "execution_count": 23,
   "metadata": {},
   "outputs": [
    {
     "name": "stdout",
     "output_type": "stream",
     "text": [
      "[10:09:36] WARNING: C:/Users/Administrator/workspace/xgboost-win64_release_1.1.0/src/objective/regression_obj.cu:170: reg:linear is now deprecated in favor of reg:squarederror.\n",
      "[10:09:39] WARNING: C:/Users/Administrator/workspace/xgboost-win64_release_1.1.0/src/objective/regression_obj.cu:170: reg:linear is now deprecated in favor of reg:squarederror.\n"
     ]
    },
    {
     "data": {
      "text/plain": [
       "XGBRegressor(base_score=0.5, booster='gbtree', colsample_bylevel=1,\n",
       "             colsample_bynode=1, colsample_bytree=0.6, eval_metric='rmse',\n",
       "             gamma=0, gpu_id=-1, importance_type='gain',\n",
       "             interaction_constraints='', learning_rate=0.01, max_delta_step=0,\n",
       "             max_depth=3, min_child_weight=9, missing=nan,\n",
       "             monotone_constraints='()', n_estimators=500, n_jobs=4, nthread=4,\n",
       "             num_parallel_tree=1, objective='reg:linear', random_state=27,\n",
       "             reg_alpha=189, reg_lambda=1, scale_pos_weight=1, seed=27,\n",
       "             subsample=0.9, tree_method='exact', validate_parameters=1,\n",
       "             verbosity=None)"
      ]
     },
     "execution_count": 23,
     "metadata": {},
     "output_type": "execute_result"
    }
   ],
   "source": [
    "xgb9.fit(X1_train,y1_train)"
   ]
  },
  {
   "cell_type": "code",
   "execution_count": 24,
   "metadata": {},
   "outputs": [],
   "source": [
    "## predict_y\n",
    "xgb1_1_pred=xgb9.predict(X1_test)\n",
    "xgb1_1_pred=xgb1_1_pred.flatten()"
   ]
  },
  {
   "cell_type": "code",
   "execution_count": 25,
   "metadata": {},
   "outputs": [],
   "source": [
    "from sklearn.metrics import mean_absolute_error"
   ]
  },
  {
   "cell_type": "code",
   "execution_count": 27,
   "metadata": {},
   "outputs": [
    {
     "name": "stdout",
     "output_type": "stream",
     "text": [
      "25.232065299807747\n",
      "9.319784394126666\n"
     ]
    }
   ],
   "source": [
    "# rmse\n",
    "print(np.sqrt(((y1_test-xgb1_1_pred)**2).sum()/1451))\n",
    "# mae\n",
    "print(mean_absolute_error(y1_test,xgb1_1_pred))"
   ]
  },
  {
   "cell_type": "code",
   "execution_count": 65,
   "metadata": {},
   "outputs": [
    {
     "data": {
      "text/plain": [
       "array([0.02116916, 0.04620117, 0.01350159, 0.01484639, 0.05623979,\n",
       "       0.01189195, 0.01381651, 0.00747605, 0.01613086, 0.00981947,\n",
       "       0.01232478, 0.00701678, 0.02380207, 0.01370118, 0.0721196 ,\n",
       "       0.0869873 , 0.01124522, 0.00507075, 0.01707106, 0.00747263,\n",
       "       0.03766336, 0.00678136, 0.07763183, 0.03286066, 0.09501848,\n",
       "       0.08486017, 0.01634112, 0.00615676, 0.01277581, 0.00509085,\n",
       "       0.00675846, 0.01932135, 0.00632981, 0.04952565], dtype=float32)"
      ]
     },
     "execution_count": 65,
     "metadata": {},
     "output_type": "execute_result"
    }
   ],
   "source": [
    "var_imp=X1_train.columns[xgb9.feature_importances_>0.005]\n",
    "xgb9.feature_importances_[np.where(xgb9.feature_importances_>0.005)]"
   ]
  },
  {
   "cell_type": "code",
   "execution_count": 70,
   "metadata": {},
   "outputs": [],
   "source": [
    "df1 = pd.DataFrame({'var':x_importances,'importance': y_importances})"
   ]
  },
  {
   "cell_type": "code",
   "execution_count": 71,
   "metadata": {},
   "outputs": [
    {
     "data": {
      "text/html": [
       "<div>\n",
       "<style scoped>\n",
       "    .dataframe tbody tr th:only-of-type {\n",
       "        vertical-align: middle;\n",
       "    }\n",
       "\n",
       "    .dataframe tbody tr th {\n",
       "        vertical-align: top;\n",
       "    }\n",
       "\n",
       "    .dataframe thead th {\n",
       "        text-align: right;\n",
       "    }\n",
       "</style>\n",
       "<table border=\"1\" class=\"dataframe\">\n",
       "  <thead>\n",
       "    <tr style=\"text-align: right;\">\n",
       "      <th></th>\n",
       "      <th>var</th>\n",
       "      <th>importance</th>\n",
       "    </tr>\n",
       "  </thead>\n",
       "  <tbody>\n",
       "    <tr>\n",
       "      <th>24</th>\n",
       "      <td>車道劃分設施-分向設施(主)_5</td>\n",
       "      <td>0.095018</td>\n",
       "    </tr>\n",
       "    <tr>\n",
       "      <th>15</th>\n",
       "      <td>星期_5</td>\n",
       "      <td>0.086987</td>\n",
       "    </tr>\n",
       "    <tr>\n",
       "      <th>25</th>\n",
       "      <td>車道劃分設施-分向設施(子)_10</td>\n",
       "      <td>0.084860</td>\n",
       "    </tr>\n",
       "    <tr>\n",
       "      <th>22</th>\n",
       "      <td>道路型態(子)_10</td>\n",
       "      <td>0.077632</td>\n",
       "    </tr>\n",
       "    <tr>\n",
       "      <th>14</th>\n",
       "      <td>月_12</td>\n",
       "      <td>0.072120</td>\n",
       "    </tr>\n",
       "    <tr>\n",
       "      <th>4</th>\n",
       "      <td>受傷人數</td>\n",
       "      <td>0.056240</td>\n",
       "    </tr>\n",
       "    <tr>\n",
       "      <th>33</th>\n",
       "      <td>通報級數</td>\n",
       "      <td>0.049526</td>\n",
       "    </tr>\n",
       "    <tr>\n",
       "      <th>1</th>\n",
       "      <td>總平均車速</td>\n",
       "      <td>0.046201</td>\n",
       "    </tr>\n",
       "    <tr>\n",
       "      <th>20</th>\n",
       "      <td>光線代碼_3</td>\n",
       "      <td>0.037663</td>\n",
       "    </tr>\n",
       "    <tr>\n",
       "      <th>23</th>\n",
       "      <td>道路型態(子)_14</td>\n",
       "      <td>0.032861</td>\n",
       "    </tr>\n",
       "    <tr>\n",
       "      <th>12</th>\n",
       "      <td>市區鄉鎮_五股區</td>\n",
       "      <td>0.023802</td>\n",
       "    </tr>\n",
       "    <tr>\n",
       "      <th>0</th>\n",
       "      <td>總通行量</td>\n",
       "      <td>0.021169</td>\n",
       "    </tr>\n",
       "    <tr>\n",
       "      <th>31</th>\n",
       "      <td>肇因研判(子)_16</td>\n",
       "      <td>0.019321</td>\n",
       "    </tr>\n",
       "    <tr>\n",
       "      <th>18</th>\n",
       "      <td>小時_14</td>\n",
       "      <td>0.017071</td>\n",
       "    </tr>\n",
       "    <tr>\n",
       "      <th>26</th>\n",
       "      <td>事故類型及型態(主)_3</td>\n",
       "      <td>0.016341</td>\n",
       "    </tr>\n",
       "    <tr>\n",
       "      <th>8</th>\n",
       "      <td>向車道_南</td>\n",
       "      <td>0.016131</td>\n",
       "    </tr>\n",
       "    <tr>\n",
       "      <th>3</th>\n",
       "      <td>速限</td>\n",
       "      <td>0.014846</td>\n",
       "    </tr>\n",
       "    <tr>\n",
       "      <th>6</th>\n",
       "      <td>通報地區_北控</td>\n",
       "      <td>0.013817</td>\n",
       "    </tr>\n",
       "    <tr>\n",
       "      <th>13</th>\n",
       "      <td>市區鄉鎮_大雅區</td>\n",
       "      <td>0.013701</td>\n",
       "    </tr>\n",
       "    <tr>\n",
       "      <th>2</th>\n",
       "      <td>里程數</td>\n",
       "      <td>0.013502</td>\n",
       "    </tr>\n",
       "    <tr>\n",
       "      <th>28</th>\n",
       "      <td>當事者車種(主)_4</td>\n",
       "      <td>0.012776</td>\n",
       "    </tr>\n",
       "    <tr>\n",
       "      <th>10</th>\n",
       "      <td>縣市_新北市</td>\n",
       "      <td>0.012325</td>\n",
       "    </tr>\n",
       "    <tr>\n",
       "      <th>5</th>\n",
       "      <td>事故涉及車輛數</td>\n",
       "      <td>0.011892</td>\n",
       "    </tr>\n",
       "    <tr>\n",
       "      <th>16</th>\n",
       "      <td>星期_6</td>\n",
       "      <td>0.011245</td>\n",
       "    </tr>\n",
       "    <tr>\n",
       "      <th>9</th>\n",
       "      <td>通報來源_3</td>\n",
       "      <td>0.009819</td>\n",
       "    </tr>\n",
       "    <tr>\n",
       "      <th>7</th>\n",
       "      <td>通報地區_南控</td>\n",
       "      <td>0.007476</td>\n",
       "    </tr>\n",
       "    <tr>\n",
       "      <th>19</th>\n",
       "      <td>小時_18</td>\n",
       "      <td>0.007473</td>\n",
       "    </tr>\n",
       "    <tr>\n",
       "      <th>11</th>\n",
       "      <td>縣市_臺中市</td>\n",
       "      <td>0.007017</td>\n",
       "    </tr>\n",
       "    <tr>\n",
       "      <th>21</th>\n",
       "      <td>光線代碼_4</td>\n",
       "      <td>0.006781</td>\n",
       "    </tr>\n",
       "    <tr>\n",
       "      <th>30</th>\n",
       "      <td>肇因研判(子)_7</td>\n",
       "      <td>0.006758</td>\n",
       "    </tr>\n",
       "    <tr>\n",
       "      <th>32</th>\n",
       "      <td>肇因研判(子)_23</td>\n",
       "      <td>0.006330</td>\n",
       "    </tr>\n",
       "    <tr>\n",
       "      <th>27</th>\n",
       "      <td>事故類型及型態(子)_12</td>\n",
       "      <td>0.006157</td>\n",
       "    </tr>\n",
       "    <tr>\n",
       "      <th>29</th>\n",
       "      <td>當事者車種(主)_6</td>\n",
       "      <td>0.005091</td>\n",
       "    </tr>\n",
       "    <tr>\n",
       "      <th>17</th>\n",
       "      <td>小時_4</td>\n",
       "      <td>0.005071</td>\n",
       "    </tr>\n",
       "  </tbody>\n",
       "</table>\n",
       "</div>"
      ],
      "text/plain": [
       "                  var  importance\n",
       "24   車道劃分設施-分向設施(主)_5    0.095018\n",
       "15               星期_5    0.086987\n",
       "25  車道劃分設施-分向設施(子)_10    0.084860\n",
       "22         道路型態(子)_10    0.077632\n",
       "14               月_12    0.072120\n",
       "4                受傷人數    0.056240\n",
       "33               通報級數    0.049526\n",
       "1               總平均車速    0.046201\n",
       "20             光線代碼_3    0.037663\n",
       "23         道路型態(子)_14    0.032861\n",
       "12           市區鄉鎮_五股區    0.023802\n",
       "0                總通行量    0.021169\n",
       "31         肇因研判(子)_16    0.019321\n",
       "18              小時_14    0.017071\n",
       "26       事故類型及型態(主)_3    0.016341\n",
       "8               向車道_南    0.016131\n",
       "3                  速限    0.014846\n",
       "6             通報地區_北控    0.013817\n",
       "13           市區鄉鎮_大雅區    0.013701\n",
       "2                 里程數    0.013502\n",
       "28         當事者車種(主)_4    0.012776\n",
       "10             縣市_新北市    0.012325\n",
       "5             事故涉及車輛數    0.011892\n",
       "16               星期_6    0.011245\n",
       "9              通報來源_3    0.009819\n",
       "7             通報地區_南控    0.007476\n",
       "19              小時_18    0.007473\n",
       "11             縣市_臺中市    0.007017\n",
       "21             光線代碼_4    0.006781\n",
       "30          肇因研判(子)_7    0.006758\n",
       "32         肇因研判(子)_23    0.006330\n",
       "27      事故類型及型態(子)_12    0.006157\n",
       "29         當事者車種(主)_6    0.005091\n",
       "17               小時_4    0.005071"
      ]
     },
     "execution_count": 71,
     "metadata": {},
     "output_type": "execute_result"
    }
   ],
   "source": [
    "df1.sort_values(by=['importance'],ascending=False)"
   ]
  },
  {
   "cell_type": "code",
   "execution_count": 64,
   "metadata": {
    "scrolled": true
   },
   "outputs": [],
   "source": [
    "df1.to_csv(\"xdboost_acc.csv\",encoding=\"utf_8_sig\")"
   ]
  },
  {
   "cell_type": "code",
   "execution_count": 69,
   "metadata": {},
   "outputs": [
    {
     "data": {
      "image/png": "[encoded data removed]",
      "text/plain": [
       "<Figure size 720x720 with 1 Axes>"
      ]
     },
     "metadata": {
      "needs_background": "light"
     },
     "output_type": "display_data"
    }
   ],
   "source": [
    "# 係數視覺化\n",
    "y_importances = xgb9.feature_importances_[np.where(xgb9.feature_importances_>0.005)]\n",
    "x_importances = var_imp\n",
    "y_pos = np.arange(len(x_importances))\n",
    "plt.figure(figsize=(10,10))\n",
    "plt.barh(y_pos, y_importances, align='center')\n",
    "plt.yticks(y_pos, x_importances,fontsize=14)\n",
    "plt.xlabel('Importances')\n",
    "plt.xlim(0,0.15)\n",
    "plt.title('Features Importances',fontsize=14)\n",
    "#plt.savefig('XGB_select(acc).png',bbox_inches='tight')\n",
    "plt.show()"
   ]
  },
  {
   "cell_type": "code",
   "execution_count": null,
   "metadata": {},
   "outputs": [],
   "source": [
    "fig, ax = plt.subplots(1, 1, figsize=(8, 13))\n",
    "xgb.plot_importance(xgb9, max_num_features=20, height=0.5, ax=ax)"
   ]
  },
  {
   "cell_type": "code",
   "execution_count": null,
   "metadata": {},
   "outputs": [],
   "source": [
    "gsearch1.grid_scores_, gsearch1.best_params_, gsearch1.best_score_"
   ]
  },
  {
   "cell_type": "code",
   "execution_count": 37,
   "metadata": {},
   "outputs": [],
   "source": [
    "with open(file=path+r'\\variable_select_varname_by_xgb.lst',mode=\"wb\") as outhis : \n",
    "                                                    \n",
    "    pickle.dump(var_imp, outhis)"
   ]
  }
 ],
 "metadata": {
  "kernelspec": {
   "display_name": "Python 3",
   "language": "python",
   "name": "python3"
  },
  "language_info": {
   "codemirror_mode": {
    "name": "ipython",
    "version": 3
   },
   "file_extension": ".py",
   "mimetype": "text/x-python",
   "name": "python",
   "nbconvert_exporter": "python",
   "pygments_lexer": "ipython3",
   "version": "3.7.6"
  }
 },
 "nbformat": 4,
 "nbformat_minor": 4
}
