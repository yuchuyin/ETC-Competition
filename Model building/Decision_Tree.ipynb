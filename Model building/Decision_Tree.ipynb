{
 "cells": [
  {
   "cell_type": "code",
   "execution_count": 27,
   "metadata": {},
   "outputs": [],
   "source": [
    "import csv\n",
    "import pandas as pd\n",
    "import numpy as np\n",
    "import os\n",
    "import pickle\n",
    "from sklearn.preprocessing import OneHotEncoder\n",
    "from sklearn.preprocessing import StandardScaler\n",
    "from sklearn.model_selection import train_test_split\n",
    "from sklearn import metrics\n",
    "from sklearn.linear_model import LassoCV\n",
    "from sklearn.linear_model import RidgeCV\n",
    "from sklearn.linear_model import Ridge\n",
    "from sklearn.model_selection import GridSearchCV\n",
    "from sklearn.model_selection import cross_val_score\n",
    "from sklearn.model_selection import train_test_split\n",
    "from sklearn.linear_model import Lasso\n",
    "from sklearn.metrics import mean_squared_error\n",
    "import random\n",
    "import matplotlib.pyplot as plt\n",
    "from sklearn.metrics import mean_squared_log_error as MSLE\n",
    "random.seed(123)\n",
    "plt.rcParams[\"font.sans-serif\"]=[\"SimHei\"]\n",
    "from datetime import datetime\n",
    "pd.set_option(\"display.max_rows\", 1000)    #設定最大能顯示1000rows\n",
    "pd.set_option(\"display.max_columns\", 1000) #設定最大能顯示1000columns\n",
    "path = r\"C:\\Users\\user\\Desktop\\ETC\""
   ]
  },
  {
   "cell_type": "code",
   "execution_count": 28,
   "metadata": {
    "scrolled": false
   },
   "outputs": [
    {
     "name": "stdout",
     "output_type": "stream",
     "text": [
      "Index(['Unnamed: 0', '回堵情況', '總通行量', '總平均車速', '里程數', '速限', '24小時內死亡人數',\n",
      "       '2-30日內死亡人數', '受傷人數', '事故涉及車輛數',\n",
      "       ...\n",
      "       '肇因研判(子)_22', '肇因研判(子)_23', '肇因研判(子)_24', '肇因研判(子)_25', '肇因研判(子)_26',\n",
      "       '肇因研判(子)_27', '肇因研判(子)_28', '是否為連續假日_1', '是否為假日_1', '處理時間'],\n",
      "      dtype='object', length=281)\n",
      "(7252, 281)\n"
     ]
    }
   ],
   "source": [
    "acc_1_fin=pd.read_csv(path+r\"/acc_1_fin.csv\")\n",
    "print(acc_1_fin.columns)\n",
    "print(acc_1_fin.shape)"
   ]
  },
  {
   "cell_type": "code",
   "execution_count": 29,
   "metadata": {},
   "outputs": [],
   "source": [
    "X1 = acc_1_fin.drop(\"處理時間\",axis = 1)\n",
    "y1 = acc_1_fin[\"處理時間\"]"
   ]
  },
  {
   "cell_type": "code",
   "execution_count": 30,
   "metadata": {},
   "outputs": [],
   "source": [
    "X1_train, X1_test, y1_train, y1_test = train_test_split(X1, y1, test_size=0.2) # 0.2 test_size means 20%"
   ]
  },
  {
   "cell_type": "code",
   "execution_count": 31,
   "metadata": {},
   "outputs": [],
   "source": [
    "from sklearn.tree import DecisionTreeRegressor\n",
    "from sklearn.model_selection import cross_val_score"
   ]
  },
  {
   "cell_type": "markdown",
   "metadata": {},
   "source": [
    "# GridSearchCV()"
   ]
  },
  {
   "cell_type": "code",
   "execution_count": 32,
   "metadata": {},
   "outputs": [
    {
     "data": {
      "text/plain": [
       "{'max_depth': 4, 'min_samples_split': 9}"
      ]
     },
     "execution_count": 32,
     "metadata": {},
     "output_type": "execute_result"
    }
   ],
   "source": [
    "dt_gsc = GridSearchCV(DecisionTreeRegressor(random_state=0),\n",
    "              param_grid={\n",
    "                  'min_samples_split': range(2, 10),\n",
    "                  'max_depth': range(3,7)},\n",
    "              scoring='neg_mean_squared_error', verbose=0,n_jobs=-1, cv=10, refit=True)\n",
    "dt_gsc.fit(X1_train,y1_train)\n",
    "dt_gsc.best_params_"
   ]
  },
  {
   "cell_type": "code",
   "execution_count": 33,
   "metadata": {},
   "outputs": [],
   "source": [
    "dt = DecisionTreeRegressor(random_state=0, criterion=\"mse\",max_depth=dt_gsc.best_params_[\"max_depth\"],\n",
    "                           min_samples_split=dt_gsc.best_params_[\"min_samples_split\"])\n",
    "dt_scores = cross_val_score(dt, X1_train, y1_train, cv=10,scoring='neg_mean_squared_error')"
   ]
  },
  {
   "cell_type": "code",
   "execution_count": 34,
   "metadata": {},
   "outputs": [],
   "source": [
    "dt_fit = dt.fit(X1_train,y1_train)"
   ]
  },
  {
   "cell_type": "code",
   "execution_count": 35,
   "metadata": {},
   "outputs": [],
   "source": [
    "## predict_y\n",
    "de_tree_1_pred=dt.predict(X1_test)\n",
    "de_tree_1_pred=de_tree_1_pred.flatten()"
   ]
  },
  {
   "cell_type": "code",
   "execution_count": 36,
   "metadata": {},
   "outputs": [
    {
     "name": "stdout",
     "output_type": "stream",
     "text": [
      "0.4716388696628134\n",
      "12.689079434643896\n",
      "161.01273689870266\n",
      "0.18371539285473293\n"
     ]
    }
   ],
   "source": [
    "# msle\n",
    "print(MSLE(de_tree_1_pred,y1_test,))\n",
    "# rmse\n",
    "print(np.sqrt(mean_squared_error(y1_test,de_tree_1_pred)))\n",
    "# mse\n",
    "print(mean_squared_error(y1_test,de_tree_1_pred))\n",
    "# r2\n",
    "print(metrics.r2_score(y1_test,de_tree_1_pred))"
   ]
  }
 ],
 "metadata": {
  "kernelspec": {
   "display_name": "Python 3",
   "language": "python",
   "name": "python3"
  },
  "language_info": {
   "codemirror_mode": {
    "name": "ipython",
    "version": 3
   },
   "file_extension": ".py",
   "mimetype": "text/x-python",
   "name": "python",
   "nbconvert_exporter": "python",
   "pygments_lexer": "ipython3",
   "version": "3.7.6"
  }
 },
 "nbformat": 4,
 "nbformat_minor": 4
}
